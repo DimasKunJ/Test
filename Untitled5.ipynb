{
 "cells": [
  {
   "cell_type": "code",
   "execution_count": 4,
   "metadata": {
    "id": "ZZgCGwwGIf88"
   },
   "outputs": [],
   "source": [
    "import pandas as pd\n",
    "import numpy as np\n",
    "import zipfile\n",
    "from tqdm.notebook import tqdm"
   ]
  },
  {
   "cell_type": "code",
   "execution_count": 7,
   "metadata": {
    "id": "-alI7dv-It47"
   },
   "outputs": [],
   "source": [
    "filezip = '/content/drive/MyDrive/data.zip'\n",
    "buka_zip = zipfile.ZipFile(filezip, 'r')\n",
    "buka_zip.extractall('/content/')\n",
    "buka_zip.close()"
   ]
  },
  {
   "cell_type": "code",
   "execution_count": 8,
   "metadata": {
    "id": "n2DI_AdBJIFZ"
   },
   "outputs": [],
   "source": [
    "data = pd.read_json('contacts.json')"
   ]
  },
  {
   "cell_type": "code",
   "execution_count": 110,
   "metadata": {
    "id": "JNRI7SulLQJi"
   },
   "outputs": [],
   "source": [
    "order_email = data.groupby('OrderId')['Email'].apply(list)"
   ]
  },
  {
   "cell_type": "code",
   "execution_count": 82,
   "metadata": {
    "id": "KzKfhyw8Na3o"
   },
   "outputs": [],
   "source": [
    "email_order = data.groupby('Email')['OrderId'].apply(list)"
   ]
  },
  {
   "cell_type": "code",
   "execution_count": 83,
   "metadata": {
    "id": "G8RWUXHQLWDm"
   },
   "outputs": [],
   "source": [
    "order_phone = data.groupby('OrderId')['Phone'].apply(list)"
   ]
  },
  {
   "cell_type": "code",
   "execution_count": 84,
   "metadata": {
    "id": "xZ4WSZk0OnX6"
   },
   "outputs": [],
   "source": [
    "phone_order = data.groupby('Phone')['OrderId'].apply(list)"
   ]
  },
  {
   "cell_type": "code",
   "execution_count": 85,
   "metadata": {
    "id": "vA-moGR9MPYw"
   },
   "outputs": [],
   "source": [
    "email_phone = data.groupby('Email')['Phone'].apply(list)"
   ]
  },
  {
   "cell_type": "code",
   "execution_count": 86,
   "metadata": {
    "id": "BniwLLb0L0Nt"
   },
   "outputs": [],
   "source": [
    "phone_email = data.groupby('Phone')['Email'].apply(list)"
   ]
  },
  {
   "cell_type": "code",
   "execution_count": 120,
   "metadata": {
    "id": "des_bLZZXH_O"
   },
   "outputs": [],
   "source": [
    "order_contact = data.groupby('OrderId')['Contacts'].apply(sum)"
   ]
  },
  {
   "cell_type": "code",
   "execution_count": 123,
   "metadata": {
    "id": "-dSZ4PCFXmde"
   },
   "outputs": [],
   "source": [
    "order_id = data.groupby('OrderId')['Id'].apply(list)"
   ]
  },
  {
   "cell_type": "code",
   "execution_count": 129,
   "metadata": {
    "id": "WQln2b21YG4Q"
   },
   "outputs": [],
   "source": [
    "order_contacts = [True if all(order_phone[i]) and all(order_email[i]) else False for i in range(len(order_phone))]"
   ]
  },
  {
   "cell_type": "code",
   "execution_count": 217,
   "metadata": {
    "id": "Z4XugKqhaulA"
   },
   "outputs": [],
   "source": [
    "benar = order_id[order_contacts]"
   ]
  },
  {
   "cell_type": "code",
   "execution_count": 226,
   "metadata": {
    "id": "oVxTWnn3bkJm"
   },
   "outputs": [],
   "source": [
    "def table(orderid):\n",
    "    new = data[data['OrderId']==orderid]\n",
    "    email = new.Email\n",
    "    phone = new.Phone\n",
    "    for i in email:\n",
    "        if i:\n",
    "            new = pd.concat([new, data[data['Email']==i]])\n",
    "    for j in phone:\n",
    "        if j:\n",
    "            new = pd.concat([new, data[data['Phone']==j]])\n",
    "    new = new.drop_duplicates('Id')\n",
    "    ids = '-'.join(map(str,sorted(new.Id)))\n",
    "    jumlah = sum(new.Contacts)\n",
    "    return orderid,ids, jumlah"
   ]
  },
  {
   "cell_type": "code",
   "execution_count": 207,
   "metadata": {
    "colab": {
     "base_uri": "https://localhost:8080/",
     "height": 206
    },
    "id": "KJan8L5uguKb",
    "outputId": "70668026-a803-47fd-d424-7e82be438d35"
   },
   "outputs": [
    {
     "data": {
      "text/html": [
       "<div>\n",
       "<style scoped>\n",
       "    .dataframe tbody tr th:only-of-type {\n",
       "        vertical-align: middle;\n",
       "    }\n",
       "\n",
       "    .dataframe tbody tr th {\n",
       "        vertical-align: top;\n",
       "    }\n",
       "\n",
       "    .dataframe thead th {\n",
       "        text-align: right;\n",
       "    }\n",
       "</style>\n",
       "<table border=\"1\" class=\"dataframe\">\n",
       "  <thead>\n",
       "    <tr style=\"text-align: right;\">\n",
       "      <th></th>\n",
       "      <th>Id</th>\n",
       "      <th>Email</th>\n",
       "      <th>Phone</th>\n",
       "      <th>Contacts</th>\n",
       "      <th>OrderId</th>\n",
       "    </tr>\n",
       "  </thead>\n",
       "  <tbody>\n",
       "    <tr>\n",
       "      <th>1</th>\n",
       "      <td>1</td>\n",
       "      <td></td>\n",
       "      <td>329442681752</td>\n",
       "      <td>4</td>\n",
       "      <td>vDDJJcxfLtSfkooPhbYnJdxov</td>\n",
       "    </tr>\n",
       "    <tr>\n",
       "      <th>2458</th>\n",
       "      <td>2458</td>\n",
       "      <td>ULziZaVD@hotmail.com</td>\n",
       "      <td>069988936</td>\n",
       "      <td>1</td>\n",
       "      <td>vDDJJcxfLtSfkooPhbYnJdxov</td>\n",
       "    </tr>\n",
       "    <tr>\n",
       "      <th>476346</th>\n",
       "      <td>476346</td>\n",
       "      <td>WXJDcOYGapCzchhwH@gmail.com</td>\n",
       "      <td></td>\n",
       "      <td>0</td>\n",
       "      <td>vDDJJcxfLtSfkooPhbYnJdxov</td>\n",
       "    </tr>\n",
       "    <tr>\n",
       "      <th>98519</th>\n",
       "      <td>98519</td>\n",
       "      <td>ULziZaVD@hotmail.com</td>\n",
       "      <td></td>\n",
       "      <td>2</td>\n",
       "      <td>mwVhJZGKtahXEdLMwVLcOAxXG</td>\n",
       "    </tr>\n",
       "    <tr>\n",
       "      <th>115061</th>\n",
       "      <td>115061</td>\n",
       "      <td>JmMSyjzmxdelSmeAHBUi@yahoo.com</td>\n",
       "      <td>069988936</td>\n",
       "      <td>4</td>\n",
       "      <td></td>\n",
       "    </tr>\n",
       "  </tbody>\n",
       "</table>\n",
       "</div>"
      ],
      "text/plain": [
       "            Id  ...                    OrderId\n",
       "1            1  ...  vDDJJcxfLtSfkooPhbYnJdxov\n",
       "2458      2458  ...  vDDJJcxfLtSfkooPhbYnJdxov\n",
       "476346  476346  ...  vDDJJcxfLtSfkooPhbYnJdxov\n",
       "98519    98519  ...  mwVhJZGKtahXEdLMwVLcOAxXG\n",
       "115061  115061  ...                           \n",
       "\n",
       "[5 rows x 5 columns]"
      ]
     },
     "execution_count": 207,
     "metadata": {
      "tags": []
     },
     "output_type": "execute_result"
    }
   ],
   "source": [
    "table('vDDJJcxfLtSfkooPhbYnJdxov')"
   ]
  },
  {
   "cell_type": "code",
   "execution_count": 202,
   "metadata": {
    "colab": {
     "base_uri": "https://localhost:8080/"
    },
    "id": "s5rP7MZQc-JW",
    "outputId": "de3f0b38-b1c3-481f-d294-344a6306c472"
   },
   "outputs": [
    {
     "data": {
      "text/plain": [
       "('1-2458-98519-115061-476346', 11)"
      ]
     },
     "execution_count": 202,
     "metadata": {
      "tags": []
     },
     "output_type": "execute_result"
    }
   ],
   "source": [
    "table('vDDJJcxfLtSfkooPhbYnJdxov')"
   ]
  },
  {
   "cell_type": "code",
   "execution_count": 240,
   "metadata": {
    "id": "HskfZL4FlHga"
   },
   "outputs": [],
   "source": [
    "index_benar = list(set(data['OrderId'].unique()[1:]) - set(benar.index))"
   ]
  },
  {
   "cell_type": "code",
   "execution_count": 241,
   "metadata": {
    "colab": {
     "base_uri": "https://localhost:8080/",
     "height": 68,
     "referenced_widgets": [
      "8d98704f34824bed906aa50d999372da",
      "62b4da0e9f9b45e793e80ccfdbc5955d",
      "f5b6d14526b44987b516b830348c2cf2",
      "070846316a4141218ec6d5af42acd999",
      "a78ce669d79b4c5eb48fa06c3571d81a",
      "3e4bd127aae4468aaaf22d9cde7e7cf5",
      "ffd90df08b7e4a67ae2ff8df7857029d",
      "463f28fc3176415e92956a0ceee23930"
     ]
    },
    "id": "HkdF0Iw5gV9v",
    "outputId": "5766dd06-115c-4852-9e28-b21c010ef13d"
   },
   "outputs": [
    {
     "data": {
      "application/vnd.jupyter.widget-view+json": {
       "model_id": "8d98704f34824bed906aa50d999372da",
       "version_major": 2,
       "version_minor": 0
      },
      "text/plain": [
       "HBox(children=(FloatProgress(value=0.0, max=27893.0), HTML(value='')))"
      ]
     },
     "metadata": {
      "tags": []
     },
     "output_type": "display_data"
    },
    {
     "name": "stdout",
     "output_type": "stream",
     "text": [
      "\n"
     ]
    }
   ],
   "source": [
    "jawaban = []\n",
    "for i in tqdm(index_benar[1:]):\n",
    "    jawaban.append(table(i))"
   ]
  },
  {
   "cell_type": "code",
   "execution_count": 243,
   "metadata": {
    "id": "JXeFysMwj26k"
   },
   "outputs": [],
   "source": [
    "jawabans = np.array(jawaban)"
   ]
  },
  {
   "cell_type": "code",
   "execution_count": 252,
   "metadata": {
    "id": "1mBCHG4Qx564"
   },
   "outputs": [],
   "source": [
    "contax = [str(jawabans[i,1])+', '+str(jawabans[i,2]) for i in range(len(jawabans))]"
   ]
  },
  {
   "cell_type": "code",
   "execution_count": 254,
   "metadata": {
    "id": "HEZGEMX0yCib"
   },
   "outputs": [],
   "source": [
    "def spl(dat):\n",
    "    return list(map(int, dat.split('-')))"
   ]
  },
  {
   "cell_type": "code",
   "execution_count": 264,
   "metadata": {
    "id": "FwgwIlnmymil"
   },
   "outputs": [],
   "source": [
    "idx = []\n",
    "contaxs = []\n",
    "for i in range(len(jawabans)):\n",
    "    nums = spl(jawabans[i,1])\n",
    "    idx.extend(nums)\n",
    "    contaxs.extend([contax[i]]*len(nums))"
   ]
  },
  {
   "cell_type": "code",
   "execution_count": 298,
   "metadata": {
    "id": "uWpX-RXpyuHJ"
   },
   "outputs": [],
   "source": [
    "jawabannnya = pd.DataFrame({'ticket_id':idx, 'ticket_trace/contact':contaxs})"
   ]
  },
  {
   "cell_type": "code",
   "execution_count": 297,
   "metadata": {
    "id": "XYuOE7U8zGv0"
   },
   "outputs": [],
   "source": [
    "jawabannnya.to_csv('a.csv',index=False)"
   ]
  },
  {
   "cell_type": "code",
   "execution_count": null,
   "metadata": {
    "id": "QcqTn9Mi3W0V"
   },
   "outputs": [],
   "source": []
  }
 ],
 "metadata": {
  "colab": {
   "name": "Untitled5.ipynb",
   "provenance": []
  },
  "kernelspec": {
   "display_name": "Python 3",
   "language": "python",
   "name": "python3"
  },
  "language_info": {
   "codemirror_mode": {
    "name": "ipython",
    "version": 3
   },
   "file_extension": ".py",
   "mimetype": "text/x-python",
   "name": "python",
   "nbconvert_exporter": "python",
   "pygments_lexer": "ipython3",
   "version": "3.9.0"
  },
  "widgets": {
   "application/vnd.jupyter.widget-state+json": {
    "070846316a4141218ec6d5af42acd999": {
     "model_module": "@jupyter-widgets/controls",
     "model_name": "HTMLModel",
     "state": {
      "_dom_classes": [],
      "_model_module": "@jupyter-widgets/controls",
      "_model_module_version": "1.5.0",
      "_model_name": "HTMLModel",
      "_view_count": null,
      "_view_module": "@jupyter-widgets/controls",
      "_view_module_version": "1.5.0",
      "_view_name": "HTMLView",
      "description": "",
      "description_tooltip": null,
      "layout": "IPY_MODEL_463f28fc3176415e92956a0ceee23930",
      "placeholder": "​",
      "style": "IPY_MODEL_ffd90df08b7e4a67ae2ff8df7857029d",
      "value": " 27893/27893 [1:11:13&lt;00:00,  6.53it/s]"
     }
    },
    "3e4bd127aae4468aaaf22d9cde7e7cf5": {
     "model_module": "@jupyter-widgets/base",
     "model_name": "LayoutModel",
     "state": {
      "_model_module": "@jupyter-widgets/base",
      "_model_module_version": "1.2.0",
      "_model_name": "LayoutModel",
      "_view_count": null,
      "_view_module": "@jupyter-widgets/base",
      "_view_module_version": "1.2.0",
      "_view_name": "LayoutView",
      "align_content": null,
      "align_items": null,
      "align_self": null,
      "border": null,
      "bottom": null,
      "display": null,
      "flex": null,
      "flex_flow": null,
      "grid_area": null,
      "grid_auto_columns": null,
      "grid_auto_flow": null,
      "grid_auto_rows": null,
      "grid_column": null,
      "grid_gap": null,
      "grid_row": null,
      "grid_template_areas": null,
      "grid_template_columns": null,
      "grid_template_rows": null,
      "height": null,
      "justify_content": null,
      "justify_items": null,
      "left": null,
      "margin": null,
      "max_height": null,
      "max_width": null,
      "min_height": null,
      "min_width": null,
      "object_fit": null,
      "object_position": null,
      "order": null,
      "overflow": null,
      "overflow_x": null,
      "overflow_y": null,
      "padding": null,
      "right": null,
      "top": null,
      "visibility": null,
      "width": null
     }
    },
    "463f28fc3176415e92956a0ceee23930": {
     "model_module": "@jupyter-widgets/base",
     "model_name": "LayoutModel",
     "state": {
      "_model_module": "@jupyter-widgets/base",
      "_model_module_version": "1.2.0",
      "_model_name": "LayoutModel",
      "_view_count": null,
      "_view_module": "@jupyter-widgets/base",
      "_view_module_version": "1.2.0",
      "_view_name": "LayoutView",
      "align_content": null,
      "align_items": null,
      "align_self": null,
      "border": null,
      "bottom": null,
      "display": null,
      "flex": null,
      "flex_flow": null,
      "grid_area": null,
      "grid_auto_columns": null,
      "grid_auto_flow": null,
      "grid_auto_rows": null,
      "grid_column": null,
      "grid_gap": null,
      "grid_row": null,
      "grid_template_areas": null,
      "grid_template_columns": null,
      "grid_template_rows": null,
      "height": null,
      "justify_content": null,
      "justify_items": null,
      "left": null,
      "margin": null,
      "max_height": null,
      "max_width": null,
      "min_height": null,
      "min_width": null,
      "object_fit": null,
      "object_position": null,
      "order": null,
      "overflow": null,
      "overflow_x": null,
      "overflow_y": null,
      "padding": null,
      "right": null,
      "top": null,
      "visibility": null,
      "width": null
     }
    },
    "62b4da0e9f9b45e793e80ccfdbc5955d": {
     "model_module": "@jupyter-widgets/base",
     "model_name": "LayoutModel",
     "state": {
      "_model_module": "@jupyter-widgets/base",
      "_model_module_version": "1.2.0",
      "_model_name": "LayoutModel",
      "_view_count": null,
      "_view_module": "@jupyter-widgets/base",
      "_view_module_version": "1.2.0",
      "_view_name": "LayoutView",
      "align_content": null,
      "align_items": null,
      "align_self": null,
      "border": null,
      "bottom": null,
      "display": null,
      "flex": null,
      "flex_flow": null,
      "grid_area": null,
      "grid_auto_columns": null,
      "grid_auto_flow": null,
      "grid_auto_rows": null,
      "grid_column": null,
      "grid_gap": null,
      "grid_row": null,
      "grid_template_areas": null,
      "grid_template_columns": null,
      "grid_template_rows": null,
      "height": null,
      "justify_content": null,
      "justify_items": null,
      "left": null,
      "margin": null,
      "max_height": null,
      "max_width": null,
      "min_height": null,
      "min_width": null,
      "object_fit": null,
      "object_position": null,
      "order": null,
      "overflow": null,
      "overflow_x": null,
      "overflow_y": null,
      "padding": null,
      "right": null,
      "top": null,
      "visibility": null,
      "width": null
     }
    },
    "8d98704f34824bed906aa50d999372da": {
     "model_module": "@jupyter-widgets/controls",
     "model_name": "HBoxModel",
     "state": {
      "_dom_classes": [],
      "_model_module": "@jupyter-widgets/controls",
      "_model_module_version": "1.5.0",
      "_model_name": "HBoxModel",
      "_view_count": null,
      "_view_module": "@jupyter-widgets/controls",
      "_view_module_version": "1.5.0",
      "_view_name": "HBoxView",
      "box_style": "",
      "children": [
       "IPY_MODEL_f5b6d14526b44987b516b830348c2cf2",
       "IPY_MODEL_070846316a4141218ec6d5af42acd999"
      ],
      "layout": "IPY_MODEL_62b4da0e9f9b45e793e80ccfdbc5955d"
     }
    },
    "a78ce669d79b4c5eb48fa06c3571d81a": {
     "model_module": "@jupyter-widgets/controls",
     "model_name": "ProgressStyleModel",
     "state": {
      "_model_module": "@jupyter-widgets/controls",
      "_model_module_version": "1.5.0",
      "_model_name": "ProgressStyleModel",
      "_view_count": null,
      "_view_module": "@jupyter-widgets/base",
      "_view_module_version": "1.2.0",
      "_view_name": "StyleView",
      "bar_color": null,
      "description_width": "initial"
     }
    },
    "f5b6d14526b44987b516b830348c2cf2": {
     "model_module": "@jupyter-widgets/controls",
     "model_name": "FloatProgressModel",
     "state": {
      "_dom_classes": [],
      "_model_module": "@jupyter-widgets/controls",
      "_model_module_version": "1.5.0",
      "_model_name": "FloatProgressModel",
      "_view_count": null,
      "_view_module": "@jupyter-widgets/controls",
      "_view_module_version": "1.5.0",
      "_view_name": "ProgressView",
      "bar_style": "success",
      "description": "100%",
      "description_tooltip": null,
      "layout": "IPY_MODEL_3e4bd127aae4468aaaf22d9cde7e7cf5",
      "max": 27893,
      "min": 0,
      "orientation": "horizontal",
      "style": "IPY_MODEL_a78ce669d79b4c5eb48fa06c3571d81a",
      "value": 27893
     }
    },
    "ffd90df08b7e4a67ae2ff8df7857029d": {
     "model_module": "@jupyter-widgets/controls",
     "model_name": "DescriptionStyleModel",
     "state": {
      "_model_module": "@jupyter-widgets/controls",
      "_model_module_version": "1.5.0",
      "_model_name": "DescriptionStyleModel",
      "_view_count": null,
      "_view_module": "@jupyter-widgets/base",
      "_view_module_version": "1.2.0",
      "_view_name": "StyleView",
      "description_width": ""
     }
    }
   }
  }
 },
 "nbformat": 4,
 "nbformat_minor": 1
}
